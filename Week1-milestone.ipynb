{
 "cells": [
  {
   "cell_type": "markdown",
   "id": "52eda26a",
   "metadata": {},
   "source": [
    "<div style=\"border-radius:5px; padding: 15px;background-color: black; font-size:100%; text-align:left\">\n",
    "\n",
    "<h2 align=\"left\"><font color=white style=bold>Customer Segmentation Model using Python</font></h2>\n",
    "<h5 align=\"left\"><font color=white>Full Name: Sneha C Shaji</font></h5>\n",
    "<h5 align=\"left\"><font color=white>Internship Registration ID: STU62b097bc128db1655740348</font></h5>"
   ]
  },
  {
   "cell_type": "markdown",
   "id": "ae7b7d8d",
   "metadata": {
    "papermill": {
     "duration": 0.054531,
     "end_time": "2023-09-13T18:55:29.182670",
     "exception": false,
     "start_time": "2023-09-13T18:55:29.128139",
     "status": "completed"
    },
    "tags": []
   },
   "source": [
    "<div style=\"border-radius:10px; padding: 15px; background-color: black; font-size:130%; text-align:left\">\n",
    "\n",
    "<h4 align=\"left\"><font color=white>Problem</font></h4>\n",
    "\n",
    "\n",
    "In this project, we delve deep into the thriving sector of __online retail__ by analyzing a __transactional dataset__ from a UK-based retailer, available at the [UCI Machine Learning Repository](https://archive.ics.uci.edu/dataset/352/online+retail). This dataset documents all transactions between 2010 and 2011. Our primary objective is to amplify the efficiency of marketing strategies and boost sales through __customer segmentation__. We aim to transform the transactional data into a customer-centric dataset by creating new features that will facilitate the segmentation of customers into distinct groups using the __K-means clustering__ algorithm. This segmentation will allow us to understand the distinct __profiles__ and preferences of different customer groups. Building upon this, we intend to develop a __recommendation system__ that will suggest top-selling products to customers within each segment who haven't purchased those items yet, ultimately enhancing marketing efficacy and fostering increased sales.\n"
   ]
  },
  {
   "cell_type": "markdown",
   "id": "b0167c09",
   "metadata": {
    "papermill": {
     "duration": 0.054838,
     "end_time": "2023-09-13T18:55:29.487191",
     "exception": false,
     "start_time": "2023-09-13T18:55:29.432353",
     "status": "completed"
    },
    "tags": []
   },
   "source": [
    "<a id=\"contents_tabel\"></a>    \n",
    "<div style=\"border-radius:10px; padding: 15px; background-color: black; font-size:130%; text-align:left\">\n",
    "\n",
    "<h2 align=\"left\"><font color=white>Table of Contents:</font></h2>\n",
    "    \n",
    "* [Step 1 | Setup and Initialization](#setup)\n",
    "    - [Step 1.1 | Importing Necessary Libraries](#libraries) \n",
    "    - [Step 1.2 | Loading the Dataset](#load_dataset)\n",
    "* [Step 2 | Initial Data Analysis](#initial_analysis) \n",
    "    - [Step 2.1 | Dataset Overview](#overview) \n",
    "    - [Step 2.2 | Summary Statistics](#statistics) \n",
    "* [Step 3 | Data Cleaning & Transformation](#data_cleaning)\n",
    "    - [Step 3.1 | Handling Missing Values](#missing_values)\n",
    "    - [Step 3.2 | Handling Duplicates](#duplicates)\n",
    "    - [Step 3.3 | Treating Cancelled Transactions](#InvoiceNo_cleaning)\n",
    "    - [Step 3.4 | Correcting StockCode Anomalies](#StockCode_cleaning)\n",
    "    - [Step 3.5 | Cleaning Description Column](#Description_cleaning)\n",
    "    - [Step 3.6 | Treating Zero Unit Prices](#UnitPrice_cleaning)\n",
    "    - [Step 3.7 | Outlier Treatment](#outlier_cleaning)"
   ]
  },
  {
   "cell_type": "markdown",
   "id": "546e6474",
   "metadata": {
    "papermill": {
     "duration": 0.059462,
     "end_time": "2023-09-13T18:55:29.374439",
     "exception": false,
     "start_time": "2023-09-13T18:55:29.314977",
     "status": "completed"
    },
    "tags": []
   },
   "source": [
    "<div style=\"border-radius:10px; padding: 15px; background-color: black; font-size:130%; text-align:left\">\n",
    "\n",
    "<h2 align=\"left\"><font color=white>Objectives:</font></h2>\n",
    "<p>\n",
    "\n",
    "- **Data Cleaning & Transformation**: Clean the dataset by handling missing values, duplicates, and outliers, preparing it for effective clustering.\n",
    "\n",
    "    \n",
    "- **Feature Engineering**: Develop new features based on the transactional data to create a customer-centric dataset, setting the foundation for customer segmentation.\n",
    "\n",
    "    \n",
    "- **Data Preprocessing**: Undertake feature scaling and dimensionality reduction to streamline the data, enhancing the efficiency of the clustering process.\n",
    "\n",
    "    \n",
    "- **Customer Segmentation using K-Means Clustering**: Segment customers into distinct groups using K-means, facilitating targeted marketing and personalized strategies.\n",
    "\n",
    "    \n",
    "- **Cluster Analysis & Evaluation**: Analyze and profile each cluster to develop targeted marketing strategies and assess the quality of the clusters formed.\n",
    "\n",
    "    \n",
    "- **Recommendation System**: Implement a system to recommend best-selling products to customers within the same cluster who haven't purchased those products, aiming to boost sales and marketing effectiveness.\n",
    "</p>"
   ]
  },
  {
   "cell_type": "markdown",
   "id": "158e6dcc",
   "metadata": {
    "papermill": {
     "duration": 0.055048,
     "end_time": "2023-09-13T18:55:29.713486",
     "exception": false,
     "start_time": "2023-09-13T18:55:29.658438",
     "status": "completed"
    },
    "tags": []
   },
   "source": [
    "<a id=\"setup\"></a>\n",
    "# <h4 style=\"font-family:calibri; color:white;font-family:Verdana;\">Step 1 | Setup and Initialization</h4>"
   ]
  },
  {
   "cell_type": "markdown",
   "id": "c4e393a0",
   "metadata": {
    "papermill": {
     "duration": 0.054748,
     "end_time": "2023-09-13T18:55:29.823414",
     "exception": false,
     "start_time": "2023-09-13T18:55:29.768666",
     "status": "completed"
    },
    "tags": []
   },
   "source": [
    "<a id=\"libraries\"></a>\n",
    "# <h5><span style='color:white'>Step 1.1 |</span><span style='color:white'> Importing Necessary Libraries</span></h5>"
   ]
  },
  {
   "cell_type": "markdown",
   "id": "b187bc22",
   "metadata": {
    "papermill": {
     "duration": 0.054579,
     "end_time": "2023-09-13T18:55:29.932823",
     "exception": false,
     "start_time": "2023-09-13T18:55:29.878244",
     "status": "completed"
    },
    "tags": []
   },
   "source": [
    "<div style=\"border-radius:10px; padding: 15px;  font-size:100%; text-align:left\">\n",
    "    \n",
    "First of all, we will import all the necessary libraries that we will use throughout the project. This generally includes libraries for data manipulation, data visualization, and others based on the specific needs of the project:"
   ]
  },
  {
   "cell_type": "code",
   "execution_count": 28,
   "id": "88c0d4f2",
   "metadata": {
    "execution": {
     "iopub.execute_input": "2023-09-13T18:55:30.045883Z",
     "iopub.status.busy": "2023-09-13T18:55:30.045468Z",
     "iopub.status.idle": "2023-09-13T18:55:33.701518Z",
     "shell.execute_reply": "2023-09-13T18:55:33.699161Z"
    },
    "papermill": {
     "duration": 3.71761,
     "end_time": "2023-09-13T18:55:33.705058",
     "exception": false,
     "start_time": "2023-09-13T18:55:29.987448",
     "status": "completed"
    },
    "tags": []
   },
   "outputs": [],
   "source": [
    "# Ignore warnings\n",
    "import warnings\n",
    "warnings.filterwarnings('ignore')\n",
    "\n",
    "import numpy as np\n",
    "import pandas as pd\n",
    "import seaborn as sns\n",
    "import matplotlib.pyplot as plt\n",
    "import matplotlib.gridspec as gridspec\n",
    "import plotly.graph_objects as go\n",
    "from matplotlib.colors import LinearSegmentedColormap\n",
    "from matplotlib import colors as mcolors\n",
    "from scipy.stats import linregress\n",
    "from sklearn.ensemble import IsolationForest\n",
    "from sklearn.preprocessing import StandardScaler\n",
    "from sklearn.decomposition import PCA\n",
    "from sklearn.metrics import silhouette_score, calinski_harabasz_score, davies_bouldin_score\n",
    "from sklearn.cluster import KMeans\n",
    "from tabulate import tabulate\n",
    "from collections import Counter\n",
    "from yellowbrick.cluster import KElbowVisualizer, SilhouetteVisualizer\n",
    "%matplotlib inline"
   ]
  },
  {
   "cell_type": "code",
   "execution_count": 29,
   "id": "6f2a57e4",
   "metadata": {
    "execution": {
     "iopub.execute_input": "2023-09-13T18:55:33.835541Z",
     "iopub.status.busy": "2023-09-13T18:55:33.834798Z",
     "iopub.status.idle": "2023-09-13T18:55:34.101961Z",
     "shell.execute_reply": "2023-09-13T18:55:34.100644Z"
    },
    "papermill": {
     "duration": 0.326571,
     "end_time": "2023-09-13T18:55:34.104602",
     "exception": false,
     "start_time": "2023-09-13T18:55:33.778031",
     "status": "completed"
    },
    "tags": []
   },
   "outputs": [
    {
     "data": {
      "text/html": [
       "        <script type=\"text/javascript\">\n",
       "        window.PlotlyConfig = {MathJaxConfig: 'local'};\n",
       "        if (window.MathJax && window.MathJax.Hub && window.MathJax.Hub.Config) {window.MathJax.Hub.Config({SVG: {font: \"STIX-Web\"}});}\n",
       "        if (typeof require !== 'undefined') {\n",
       "        require.undef(\"plotly\");\n",
       "        requirejs.config({\n",
       "            paths: {\n",
       "                'plotly': ['https://cdn.plot.ly/plotly-2.29.1.min']\n",
       "            }\n",
       "        });\n",
       "        require(['plotly'], function(Plotly) {\n",
       "            window._Plotly = Plotly;\n",
       "        });\n",
       "        }\n",
       "        </script>\n",
       "        "
      ]
     },
     "metadata": {},
     "output_type": "display_data"
    }
   ],
   "source": [
    "# Initialize Plotly for use in the notebook\n",
    "from plotly.offline import init_notebook_mode\n",
    "init_notebook_mode(connected=True)"
   ]
  },
  {
   "cell_type": "code",
   "execution_count": 30,
   "id": "e7f647ef",
   "metadata": {
    "execution": {
     "iopub.execute_input": "2023-09-13T18:55:34.218004Z",
     "iopub.status.busy": "2023-09-13T18:55:34.216856Z",
     "iopub.status.idle": "2023-09-13T18:55:34.223459Z",
     "shell.execute_reply": "2023-09-13T18:55:34.222527Z"
    },
    "papermill": {
     "duration": 0.065754,
     "end_time": "2023-09-13T18:55:34.225966",
     "exception": false,
     "start_time": "2023-09-13T18:55:34.160212",
     "status": "completed"
    },
    "tags": []
   },
   "outputs": [],
   "source": [
    "# Configure Seaborn plot styles: Set background color and use dark grid\n",
    "sns.set(rc={'axes.facecolor': '#fcf0dc'}, style='darkgrid')"
   ]
  },
  {
   "cell_type": "markdown",
   "id": "1859bfb9",
   "metadata": {
    "papermill": {
     "duration": 0.05608,
     "end_time": "2023-09-13T18:55:34.336948",
     "exception": false,
     "start_time": "2023-09-13T18:55:34.280868",
     "status": "completed"
    },
    "tags": []
   },
   "source": [
    "<a id=\"libraries\"></a>\n",
    "# <h5><span style='color:white'>Step 1.2 |</span><span style='color:white'> Loading the Dataset</span></h5>"
   ]
  },
  {
   "cell_type": "markdown",
   "id": "37684594",
   "metadata": {
    "papermill": {
     "duration": 0.055541,
     "end_time": "2023-09-13T18:55:34.447416",
     "exception": false,
     "start_time": "2023-09-13T18:55:34.391875",
     "status": "completed"
    },
    "tags": []
   },
   "source": [
    "<div style=\"border-radius:10px; padding: 15px;  font-size:100%; text-align:left\">\n",
    "    \n",
    "Next, we will load the dataset into a pandas DataFrame which will facilitate easy manipulation and analysis:"
   ]
  },
  {
   "cell_type": "code",
   "execution_count": 31,
   "id": "baaa0be4",
   "metadata": {
    "execution": {
     "iopub.execute_input": "2023-09-13T18:55:34.563857Z",
     "iopub.status.busy": "2023-09-13T18:55:34.562725Z",
     "iopub.status.idle": "2023-09-13T18:55:36.314527Z",
     "shell.execute_reply": "2023-09-13T18:55:36.312902Z"
    },
    "papermill": {
     "duration": 1.815595,
     "end_time": "2023-09-13T18:55:36.317782",
     "exception": false,
     "start_time": "2023-09-13T18:55:34.502187",
     "status": "completed"
    },
    "tags": []
   },
   "outputs": [],
   "source": [
    "df = pd.read_csv('customer_data.csv', encoding=\"ISO-8859-1\")"
   ]
  },
  {
   "cell_type": "markdown",
   "id": "53887068",
   "metadata": {
    "papermill": {
     "duration": 0.055908,
     "end_time": "2023-09-13T18:55:36.429299",
     "exception": false,
     "start_time": "2023-09-13T18:55:36.373391",
     "status": "completed"
    },
    "tags": []
   },
   "source": [
    "<div style=\"border-radius:10px; padding: 15px;  font-size:100%; text-align:left\">\n",
    "\n",
    "<h2 align=\"left\"><font color=white>Dataset Description:</font></h2>\n",
    "\n",
    "| __Variable__   | __Description__ |\n",
    "|     :---       |       :---      |      \n",
    "| __InvoiceNo__  | Code representing each unique transaction.  If this code starts with letter 'c', it indicates a cancellation. |\n",
    "| __StockCode__  | Code uniquely assigned to each distinct product. |\n",
    "| __Description__| Description of each product. |\n",
    "| __Quantity__   | The number of units of a product in a transaction. |\n",
    "| __InvoiceDate__| The date and time of the transaction. |\n",
    "| __UnitPrice__  | The unit price of the product in sterling. |\n",
    "| __CustomerID__ | Identifier uniquely assigned to each customer. |\n",
    "| __Country__    | The country of the customer. |\n"
   ]
  },
  {
   "cell_type": "markdown",
   "id": "e275d113",
   "metadata": {
    "papermill": {
     "duration": 0.05478,
     "end_time": "2023-09-13T18:55:36.539387",
     "exception": false,
     "start_time": "2023-09-13T18:55:36.484607",
     "status": "completed"
    },
    "tags": []
   },
   "source": [
    "<a id=\"setup\"></a>\n",
    "# <h4 style=\"font-family:calibri; color:white;font-family:Verdana;\">Step 2 | Initial Data Analysis</h4>"
   ]
  },
  {
   "cell_type": "markdown",
   "id": "321c88dc",
   "metadata": {
    "papermill": {
     "duration": 0.055637,
     "end_time": "2023-09-13T18:55:36.654099",
     "exception": false,
     "start_time": "2023-09-13T18:55:36.598462",
     "status": "completed"
    },
    "tags": []
   },
   "source": [
    "<div style=\"border-radius:10px; padding: 15px;  font-size:100%; text-align:left\">\n",
    "    \n",
    "Afterward, we are going to gain a thorough understanding of the dataset before proceeding to the data cleaning and transformation stages."
   ]
  },
  {
   "cell_type": "markdown",
   "id": "dc056c8f",
   "metadata": {
    "papermill": {
     "duration": 0.054688,
     "end_time": "2023-09-13T18:55:36.764128",
     "exception": false,
     "start_time": "2023-09-13T18:55:36.709440",
     "status": "completed"
    },
    "tags": []
   },
   "source": [
    "<a id=\"libraries\"></a>\n",
    "# <h5><span style='color:white'>Step 2.1 |</span><span style='color:white'> Dataset Overview</span></h5>"
   ]
  },
  {
   "cell_type": "markdown",
   "id": "33b2c029",
   "metadata": {
    "papermill": {
     "duration": 0.056899,
     "end_time": "2023-09-13T18:55:36.876789",
     "exception": false,
     "start_time": "2023-09-13T18:55:36.819890",
     "status": "completed"
    },
    "tags": []
   },
   "source": [
    "<div style=\"border-radius:10px; padding: 15px;  font-size:100%; text-align:left\">\n",
    "\n",
    "First we will perform a preliminary analysis to understand the structure and types of data columns:"
   ]
  },
  {
   "cell_type": "code",
   "execution_count": 32,
   "id": "4cec4265",
   "metadata": {
    "execution": {
     "iopub.execute_input": "2023-09-13T18:55:36.990952Z",
     "iopub.status.busy": "2023-09-13T18:55:36.990507Z",
     "iopub.status.idle": "2023-09-13T18:55:37.028503Z",
     "shell.execute_reply": "2023-09-13T18:55:37.026858Z"
    },
    "papermill": {
     "duration": 0.098838,
     "end_time": "2023-09-13T18:55:37.031877",
     "exception": false,
     "start_time": "2023-09-13T18:55:36.933039",
     "status": "completed"
    },
    "scrolled": true,
    "tags": []
   },
   "outputs": [
    {
     "data": {
      "text/html": [
       "<div>\n",
       "<style scoped>\n",
       "    .dataframe tbody tr th:only-of-type {\n",
       "        vertical-align: middle;\n",
       "    }\n",
       "\n",
       "    .dataframe tbody tr th {\n",
       "        vertical-align: top;\n",
       "    }\n",
       "\n",
       "    .dataframe thead th {\n",
       "        text-align: right;\n",
       "    }\n",
       "</style>\n",
       "<table border=\"1\" class=\"dataframe\">\n",
       "  <thead>\n",
       "    <tr style=\"text-align: right;\">\n",
       "      <th></th>\n",
       "      <th>InvoiceNo</th>\n",
       "      <th>StockCode</th>\n",
       "      <th>Description</th>\n",
       "      <th>Quantity</th>\n",
       "      <th>InvoiceDate</th>\n",
       "      <th>UnitPrice</th>\n",
       "      <th>CustomerID</th>\n",
       "      <th>Country</th>\n",
       "    </tr>\n",
       "  </thead>\n",
       "  <tbody>\n",
       "    <tr>\n",
       "      <th>0</th>\n",
       "      <td>536365</td>\n",
       "      <td>85123A</td>\n",
       "      <td>WHITE HANGING HEART T-LIGHT HOLDER</td>\n",
       "      <td>6</td>\n",
       "      <td>12/1/2010 8:26</td>\n",
       "      <td>2.55</td>\n",
       "      <td>17850.0</td>\n",
       "      <td>United Kingdom</td>\n",
       "    </tr>\n",
       "    <tr>\n",
       "      <th>1</th>\n",
       "      <td>536365</td>\n",
       "      <td>71053</td>\n",
       "      <td>WHITE METAL LANTERN</td>\n",
       "      <td>6</td>\n",
       "      <td>12/1/2010 8:26</td>\n",
       "      <td>3.39</td>\n",
       "      <td>17850.0</td>\n",
       "      <td>United Kingdom</td>\n",
       "    </tr>\n",
       "    <tr>\n",
       "      <th>2</th>\n",
       "      <td>536365</td>\n",
       "      <td>84406B</td>\n",
       "      <td>CREAM CUPID HEARTS COAT HANGER</td>\n",
       "      <td>8</td>\n",
       "      <td>12/1/2010 8:26</td>\n",
       "      <td>2.75</td>\n",
       "      <td>17850.0</td>\n",
       "      <td>United Kingdom</td>\n",
       "    </tr>\n",
       "    <tr>\n",
       "      <th>3</th>\n",
       "      <td>536365</td>\n",
       "      <td>84029G</td>\n",
       "      <td>KNITTED UNION FLAG HOT WATER BOTTLE</td>\n",
       "      <td>6</td>\n",
       "      <td>12/1/2010 8:26</td>\n",
       "      <td>3.39</td>\n",
       "      <td>17850.0</td>\n",
       "      <td>United Kingdom</td>\n",
       "    </tr>\n",
       "    <tr>\n",
       "      <th>4</th>\n",
       "      <td>536365</td>\n",
       "      <td>84029E</td>\n",
       "      <td>RED WOOLLY HOTTIE WHITE HEART.</td>\n",
       "      <td>6</td>\n",
       "      <td>12/1/2010 8:26</td>\n",
       "      <td>3.39</td>\n",
       "      <td>17850.0</td>\n",
       "      <td>United Kingdom</td>\n",
       "    </tr>\n",
       "    <tr>\n",
       "      <th>5</th>\n",
       "      <td>536365</td>\n",
       "      <td>22752</td>\n",
       "      <td>SET 7 BABUSHKA NESTING BOXES</td>\n",
       "      <td>2</td>\n",
       "      <td>12/1/2010 8:26</td>\n",
       "      <td>7.65</td>\n",
       "      <td>17850.0</td>\n",
       "      <td>United Kingdom</td>\n",
       "    </tr>\n",
       "    <tr>\n",
       "      <th>6</th>\n",
       "      <td>536365</td>\n",
       "      <td>21730</td>\n",
       "      <td>GLASS STAR FROSTED T-LIGHT HOLDER</td>\n",
       "      <td>6</td>\n",
       "      <td>12/1/2010 8:26</td>\n",
       "      <td>4.25</td>\n",
       "      <td>17850.0</td>\n",
       "      <td>United Kingdom</td>\n",
       "    </tr>\n",
       "    <tr>\n",
       "      <th>7</th>\n",
       "      <td>536366</td>\n",
       "      <td>22633</td>\n",
       "      <td>HAND WARMER UNION JACK</td>\n",
       "      <td>6</td>\n",
       "      <td>12/1/2010 8:28</td>\n",
       "      <td>1.85</td>\n",
       "      <td>17850.0</td>\n",
       "      <td>United Kingdom</td>\n",
       "    </tr>\n",
       "    <tr>\n",
       "      <th>8</th>\n",
       "      <td>536366</td>\n",
       "      <td>22632</td>\n",
       "      <td>HAND WARMER RED POLKA DOT</td>\n",
       "      <td>6</td>\n",
       "      <td>12/1/2010 8:28</td>\n",
       "      <td>1.85</td>\n",
       "      <td>17850.0</td>\n",
       "      <td>United Kingdom</td>\n",
       "    </tr>\n",
       "    <tr>\n",
       "      <th>9</th>\n",
       "      <td>536367</td>\n",
       "      <td>84879</td>\n",
       "      <td>ASSORTED COLOUR BIRD ORNAMENT</td>\n",
       "      <td>32</td>\n",
       "      <td>12/1/2010 8:34</td>\n",
       "      <td>1.69</td>\n",
       "      <td>13047.0</td>\n",
       "      <td>United Kingdom</td>\n",
       "    </tr>\n",
       "    <tr>\n",
       "      <th>10</th>\n",
       "      <td>536367</td>\n",
       "      <td>22745</td>\n",
       "      <td>POPPY'S PLAYHOUSE BEDROOM</td>\n",
       "      <td>6</td>\n",
       "      <td>12/1/2010 8:34</td>\n",
       "      <td>2.10</td>\n",
       "      <td>13047.0</td>\n",
       "      <td>United Kingdom</td>\n",
       "    </tr>\n",
       "    <tr>\n",
       "      <th>11</th>\n",
       "      <td>536367</td>\n",
       "      <td>22748</td>\n",
       "      <td>POPPY'S PLAYHOUSE KITCHEN</td>\n",
       "      <td>6</td>\n",
       "      <td>12/1/2010 8:34</td>\n",
       "      <td>2.10</td>\n",
       "      <td>13047.0</td>\n",
       "      <td>United Kingdom</td>\n",
       "    </tr>\n",
       "    <tr>\n",
       "      <th>12</th>\n",
       "      <td>536367</td>\n",
       "      <td>22749</td>\n",
       "      <td>FELTCRAFT PRINCESS CHARLOTTE DOLL</td>\n",
       "      <td>8</td>\n",
       "      <td>12/1/2010 8:34</td>\n",
       "      <td>3.75</td>\n",
       "      <td>13047.0</td>\n",
       "      <td>United Kingdom</td>\n",
       "    </tr>\n",
       "    <tr>\n",
       "      <th>13</th>\n",
       "      <td>536367</td>\n",
       "      <td>22310</td>\n",
       "      <td>IVORY KNITTED MUG COSY</td>\n",
       "      <td>6</td>\n",
       "      <td>12/1/2010 8:34</td>\n",
       "      <td>1.65</td>\n",
       "      <td>13047.0</td>\n",
       "      <td>United Kingdom</td>\n",
       "    </tr>\n",
       "    <tr>\n",
       "      <th>14</th>\n",
       "      <td>536367</td>\n",
       "      <td>84969</td>\n",
       "      <td>BOX OF 6 ASSORTED COLOUR TEASPOONS</td>\n",
       "      <td>6</td>\n",
       "      <td>12/1/2010 8:34</td>\n",
       "      <td>4.25</td>\n",
       "      <td>13047.0</td>\n",
       "      <td>United Kingdom</td>\n",
       "    </tr>\n",
       "    <tr>\n",
       "      <th>15</th>\n",
       "      <td>536367</td>\n",
       "      <td>22623</td>\n",
       "      <td>BOX OF VINTAGE JIGSAW BLOCKS</td>\n",
       "      <td>3</td>\n",
       "      <td>12/1/2010 8:34</td>\n",
       "      <td>4.95</td>\n",
       "      <td>13047.0</td>\n",
       "      <td>United Kingdom</td>\n",
       "    </tr>\n",
       "    <tr>\n",
       "      <th>16</th>\n",
       "      <td>536367</td>\n",
       "      <td>22622</td>\n",
       "      <td>BOX OF VINTAGE ALPHABET BLOCKS</td>\n",
       "      <td>2</td>\n",
       "      <td>12/1/2010 8:34</td>\n",
       "      <td>9.95</td>\n",
       "      <td>13047.0</td>\n",
       "      <td>United Kingdom</td>\n",
       "    </tr>\n",
       "    <tr>\n",
       "      <th>17</th>\n",
       "      <td>536367</td>\n",
       "      <td>21754</td>\n",
       "      <td>HOME BUILDING BLOCK WORD</td>\n",
       "      <td>3</td>\n",
       "      <td>12/1/2010 8:34</td>\n",
       "      <td>5.95</td>\n",
       "      <td>13047.0</td>\n",
       "      <td>United Kingdom</td>\n",
       "    </tr>\n",
       "    <tr>\n",
       "      <th>18</th>\n",
       "      <td>536367</td>\n",
       "      <td>21755</td>\n",
       "      <td>LOVE BUILDING BLOCK WORD</td>\n",
       "      <td>3</td>\n",
       "      <td>12/1/2010 8:34</td>\n",
       "      <td>5.95</td>\n",
       "      <td>13047.0</td>\n",
       "      <td>United Kingdom</td>\n",
       "    </tr>\n",
       "    <tr>\n",
       "      <th>19</th>\n",
       "      <td>536367</td>\n",
       "      <td>21777</td>\n",
       "      <td>RECIPE BOX WITH METAL HEART</td>\n",
       "      <td>4</td>\n",
       "      <td>12/1/2010 8:34</td>\n",
       "      <td>7.95</td>\n",
       "      <td>13047.0</td>\n",
       "      <td>United Kingdom</td>\n",
       "    </tr>\n",
       "  </tbody>\n",
       "</table>\n",
       "</div>"
      ],
      "text/plain": [
       "   InvoiceNo StockCode                          Description  Quantity  \\\n",
       "0     536365    85123A   WHITE HANGING HEART T-LIGHT HOLDER         6   \n",
       "1     536365     71053                  WHITE METAL LANTERN         6   \n",
       "2     536365    84406B       CREAM CUPID HEARTS COAT HANGER         8   \n",
       "3     536365    84029G  KNITTED UNION FLAG HOT WATER BOTTLE         6   \n",
       "4     536365    84029E       RED WOOLLY HOTTIE WHITE HEART.         6   \n",
       "5     536365     22752         SET 7 BABUSHKA NESTING BOXES         2   \n",
       "6     536365     21730    GLASS STAR FROSTED T-LIGHT HOLDER         6   \n",
       "7     536366     22633               HAND WARMER UNION JACK         6   \n",
       "8     536366     22632            HAND WARMER RED POLKA DOT         6   \n",
       "9     536367     84879        ASSORTED COLOUR BIRD ORNAMENT        32   \n",
       "10    536367     22745           POPPY'S PLAYHOUSE BEDROOM          6   \n",
       "11    536367     22748            POPPY'S PLAYHOUSE KITCHEN         6   \n",
       "12    536367     22749    FELTCRAFT PRINCESS CHARLOTTE DOLL         8   \n",
       "13    536367     22310              IVORY KNITTED MUG COSY          6   \n",
       "14    536367     84969   BOX OF 6 ASSORTED COLOUR TEASPOONS         6   \n",
       "15    536367     22623        BOX OF VINTAGE JIGSAW BLOCKS          3   \n",
       "16    536367     22622       BOX OF VINTAGE ALPHABET BLOCKS         2   \n",
       "17    536367     21754             HOME BUILDING BLOCK WORD         3   \n",
       "18    536367     21755             LOVE BUILDING BLOCK WORD         3   \n",
       "19    536367     21777          RECIPE BOX WITH METAL HEART         4   \n",
       "\n",
       "       InvoiceDate  UnitPrice  CustomerID         Country  \n",
       "0   12/1/2010 8:26       2.55     17850.0  United Kingdom  \n",
       "1   12/1/2010 8:26       3.39     17850.0  United Kingdom  \n",
       "2   12/1/2010 8:26       2.75     17850.0  United Kingdom  \n",
       "3   12/1/2010 8:26       3.39     17850.0  United Kingdom  \n",
       "4   12/1/2010 8:26       3.39     17850.0  United Kingdom  \n",
       "5   12/1/2010 8:26       7.65     17850.0  United Kingdom  \n",
       "6   12/1/2010 8:26       4.25     17850.0  United Kingdom  \n",
       "7   12/1/2010 8:28       1.85     17850.0  United Kingdom  \n",
       "8   12/1/2010 8:28       1.85     17850.0  United Kingdom  \n",
       "9   12/1/2010 8:34       1.69     13047.0  United Kingdom  \n",
       "10  12/1/2010 8:34       2.10     13047.0  United Kingdom  \n",
       "11  12/1/2010 8:34       2.10     13047.0  United Kingdom  \n",
       "12  12/1/2010 8:34       3.75     13047.0  United Kingdom  \n",
       "13  12/1/2010 8:34       1.65     13047.0  United Kingdom  \n",
       "14  12/1/2010 8:34       4.25     13047.0  United Kingdom  \n",
       "15  12/1/2010 8:34       4.95     13047.0  United Kingdom  \n",
       "16  12/1/2010 8:34       9.95     13047.0  United Kingdom  \n",
       "17  12/1/2010 8:34       5.95     13047.0  United Kingdom  \n",
       "18  12/1/2010 8:34       5.95     13047.0  United Kingdom  \n",
       "19  12/1/2010 8:34       7.95     13047.0  United Kingdom  "
      ]
     },
     "execution_count": 32,
     "metadata": {},
     "output_type": "execute_result"
    }
   ],
   "source": [
    "df.head(20)"
   ]
  },
  {
   "cell_type": "code",
   "execution_count": 33,
   "id": "d408d719",
   "metadata": {
    "execution": {
     "iopub.execute_input": "2023-09-13T18:55:37.146324Z",
     "iopub.status.busy": "2023-09-13T18:55:37.144933Z",
     "iopub.status.idle": "2023-09-13T18:55:37.452307Z",
     "shell.execute_reply": "2023-09-13T18:55:37.450632Z"
    },
    "papermill": {
     "duration": 0.367369,
     "end_time": "2023-09-13T18:55:37.454997",
     "exception": false,
     "start_time": "2023-09-13T18:55:37.087628",
     "status": "completed"
    },
    "tags": []
   },
   "outputs": [
    {
     "name": "stdout",
     "output_type": "stream",
     "text": [
      "<class 'pandas.core.frame.DataFrame'>\n",
      "RangeIndex: 541909 entries, 0 to 541908\n",
      "Data columns (total 8 columns):\n",
      " #   Column       Non-Null Count   Dtype  \n",
      "---  ------       --------------   -----  \n",
      " 0   InvoiceNo    541909 non-null  object \n",
      " 1   StockCode    541909 non-null  object \n",
      " 2   Description  540455 non-null  object \n",
      " 3   Quantity     541909 non-null  int64  \n",
      " 4   InvoiceDate  541909 non-null  object \n",
      " 5   UnitPrice    541909 non-null  float64\n",
      " 6   CustomerID   406829 non-null  float64\n",
      " 7   Country      541909 non-null  object \n",
      "dtypes: float64(2), int64(1), object(5)\n",
      "memory usage: 33.1+ MB\n"
     ]
    }
   ],
   "source": [
    "df.info()"
   ]
  },
  {
   "cell_type": "markdown",
   "id": "6f2947d7",
   "metadata": {
    "papermill": {
     "duration": 0.056558,
     "end_time": "2023-09-13T18:55:37.566435",
     "exception": false,
     "start_time": "2023-09-13T18:55:37.509877",
     "status": "completed"
    },
    "tags": []
   },
   "source": [
    "<div style=\"border-radius:10px; padding: 15px;  font-size:100%; text-align:left\">\n",
    "<h3 align=\"left\"><font color=#ff6200>Inferences:</font></h3>\n",
    "    \n",
    "Write your inferences here"
   ]
  },
  {
   "cell_type": "markdown",
   "id": "fe7c84c0",
   "metadata": {},
   "source": [
    "<a id=\"libraries\"></a>\n",
    "# <h5><span style='color:white'>Step 2.2 |</span><span style='color:white'> Summary Statistics</span></h5>"
   ]
  },
  {
   "cell_type": "markdown",
   "id": "a4b3d6d9",
   "metadata": {
    "papermill": {
     "duration": 0.056226,
     "end_time": "2023-09-13T18:55:37.795485",
     "exception": false,
     "start_time": "2023-09-13T18:55:37.739259",
     "status": "completed"
    },
    "tags": []
   },
   "source": [
    "<div style=\"border-radius:10px; padding: 15px;  font-size:100%; text-align:left\">\n",
    "\n",
    "Now, we are going to generate summary statistics to gain initial insights into the data distribution:"
   ]
  },
  {
   "cell_type": "code",
   "execution_count": 15,
   "id": "e4fa41f6",
   "metadata": {
    "execution": {
     "iopub.execute_input": "2023-09-13T18:55:37.912313Z",
     "iopub.status.busy": "2023-09-13T18:55:37.911775Z",
     "iopub.status.idle": "2023-09-13T18:55:38.026234Z",
     "shell.execute_reply": "2023-09-13T18:55:38.024352Z"
    },
    "papermill": {
     "duration": 0.177485,
     "end_time": "2023-09-13T18:55:38.029051",
     "exception": false,
     "start_time": "2023-09-13T18:55:37.851566",
     "status": "completed"
    },
    "tags": []
   },
   "outputs": [
    {
     "data": {
      "text/html": [
       "<div>\n",
       "<style scoped>\n",
       "    .dataframe tbody tr th:only-of-type {\n",
       "        vertical-align: middle;\n",
       "    }\n",
       "\n",
       "    .dataframe tbody tr th {\n",
       "        vertical-align: top;\n",
       "    }\n",
       "\n",
       "    .dataframe thead th {\n",
       "        text-align: right;\n",
       "    }\n",
       "</style>\n",
       "<table border=\"1\" class=\"dataframe\">\n",
       "  <thead>\n",
       "    <tr style=\"text-align: right;\">\n",
       "      <th></th>\n",
       "      <th>count</th>\n",
       "      <th>mean</th>\n",
       "      <th>std</th>\n",
       "      <th>min</th>\n",
       "      <th>25%</th>\n",
       "      <th>50%</th>\n",
       "      <th>75%</th>\n",
       "      <th>max</th>\n",
       "    </tr>\n",
       "  </thead>\n",
       "  <tbody>\n",
       "    <tr>\n",
       "      <th>Quantity</th>\n",
       "      <td>541909.0</td>\n",
       "      <td>9.552250</td>\n",
       "      <td>218.081158</td>\n",
       "      <td>-80995.00</td>\n",
       "      <td>1.00</td>\n",
       "      <td>3.00</td>\n",
       "      <td>10.00</td>\n",
       "      <td>80995.0</td>\n",
       "    </tr>\n",
       "    <tr>\n",
       "      <th>UnitPrice</th>\n",
       "      <td>541909.0</td>\n",
       "      <td>4.611114</td>\n",
       "      <td>96.759853</td>\n",
       "      <td>-11062.06</td>\n",
       "      <td>1.25</td>\n",
       "      <td>2.08</td>\n",
       "      <td>4.13</td>\n",
       "      <td>38970.0</td>\n",
       "    </tr>\n",
       "    <tr>\n",
       "      <th>CustomerID</th>\n",
       "      <td>406829.0</td>\n",
       "      <td>15287.690570</td>\n",
       "      <td>1713.600303</td>\n",
       "      <td>12346.00</td>\n",
       "      <td>13953.00</td>\n",
       "      <td>15152.00</td>\n",
       "      <td>16791.00</td>\n",
       "      <td>18287.0</td>\n",
       "    </tr>\n",
       "  </tbody>\n",
       "</table>\n",
       "</div>"
      ],
      "text/plain": [
       "               count          mean          std       min       25%       50%  \\\n",
       "Quantity    541909.0      9.552250   218.081158 -80995.00      1.00      3.00   \n",
       "UnitPrice   541909.0      4.611114    96.759853 -11062.06      1.25      2.08   \n",
       "CustomerID  406829.0  15287.690570  1713.600303  12346.00  13953.00  15152.00   \n",
       "\n",
       "                 75%      max  \n",
       "Quantity       10.00  80995.0  \n",
       "UnitPrice       4.13  38970.0  \n",
       "CustomerID  16791.00  18287.0  "
      ]
     },
     "execution_count": 15,
     "metadata": {},
     "output_type": "execute_result"
    }
   ],
   "source": [
    "# Summary statistics for numerical variables\n",
    "df.describe().T"
   ]
  },
  {
   "cell_type": "code",
   "execution_count": 16,
   "id": "38d8e05d",
   "metadata": {
    "execution": {
     "iopub.execute_input": "2023-09-13T18:55:38.146804Z",
     "iopub.status.busy": "2023-09-13T18:55:38.145535Z",
     "iopub.status.idle": "2023-09-13T18:55:38.926847Z",
     "shell.execute_reply": "2023-09-13T18:55:38.925304Z"
    },
    "papermill": {
     "duration": 0.843701,
     "end_time": "2023-09-13T18:55:38.930130",
     "exception": false,
     "start_time": "2023-09-13T18:55:38.086429",
     "status": "completed"
    },
    "scrolled": false,
    "tags": []
   },
   "outputs": [
    {
     "data": {
      "text/html": [
       "<div>\n",
       "<style scoped>\n",
       "    .dataframe tbody tr th:only-of-type {\n",
       "        vertical-align: middle;\n",
       "    }\n",
       "\n",
       "    .dataframe tbody tr th {\n",
       "        vertical-align: top;\n",
       "    }\n",
       "\n",
       "    .dataframe thead th {\n",
       "        text-align: right;\n",
       "    }\n",
       "</style>\n",
       "<table border=\"1\" class=\"dataframe\">\n",
       "  <thead>\n",
       "    <tr style=\"text-align: right;\">\n",
       "      <th></th>\n",
       "      <th>count</th>\n",
       "      <th>unique</th>\n",
       "      <th>top</th>\n",
       "      <th>freq</th>\n",
       "    </tr>\n",
       "  </thead>\n",
       "  <tbody>\n",
       "    <tr>\n",
       "      <th>InvoiceNo</th>\n",
       "      <td>541909</td>\n",
       "      <td>25900</td>\n",
       "      <td>573585</td>\n",
       "      <td>1114</td>\n",
       "    </tr>\n",
       "    <tr>\n",
       "      <th>StockCode</th>\n",
       "      <td>541909</td>\n",
       "      <td>4070</td>\n",
       "      <td>85123A</td>\n",
       "      <td>2313</td>\n",
       "    </tr>\n",
       "    <tr>\n",
       "      <th>Description</th>\n",
       "      <td>540455</td>\n",
       "      <td>4223</td>\n",
       "      <td>WHITE HANGING HEART T-LIGHT HOLDER</td>\n",
       "      <td>2369</td>\n",
       "    </tr>\n",
       "    <tr>\n",
       "      <th>InvoiceDate</th>\n",
       "      <td>541909</td>\n",
       "      <td>23260</td>\n",
       "      <td>10/31/2011 14:41</td>\n",
       "      <td>1114</td>\n",
       "    </tr>\n",
       "    <tr>\n",
       "      <th>Country</th>\n",
       "      <td>541909</td>\n",
       "      <td>38</td>\n",
       "      <td>United Kingdom</td>\n",
       "      <td>495478</td>\n",
       "    </tr>\n",
       "  </tbody>\n",
       "</table>\n",
       "</div>"
      ],
      "text/plain": [
       "              count unique                                 top    freq\n",
       "InvoiceNo    541909  25900                              573585    1114\n",
       "StockCode    541909   4070                              85123A    2313\n",
       "Description  540455   4223  WHITE HANGING HEART T-LIGHT HOLDER    2369\n",
       "InvoiceDate  541909  23260                    10/31/2011 14:41    1114\n",
       "Country      541909     38                      United Kingdom  495478"
      ]
     },
     "execution_count": 16,
     "metadata": {},
     "output_type": "execute_result"
    }
   ],
   "source": [
    "# Summary statistics for categorical variables\n",
    "df.describe(include='object').T"
   ]
  },
  {
   "cell_type": "code",
   "execution_count": 17,
   "id": "4b8811cd",
   "metadata": {},
   "outputs": [
    {
     "data": {
      "text/html": [
       "        <script type=\"text/javascript\">\n",
       "        window.PlotlyConfig = {MathJaxConfig: 'local'};\n",
       "        if (window.MathJax && window.MathJax.Hub && window.MathJax.Hub.Config) {window.MathJax.Hub.Config({SVG: {font: \"STIX-Web\"}});}\n",
       "        if (typeof require !== 'undefined') {\n",
       "        require.undef(\"plotly\");\n",
       "        requirejs.config({\n",
       "            paths: {\n",
       "                'plotly': ['https://cdn.plot.ly/plotly-2.29.1.min']\n",
       "            }\n",
       "        });\n",
       "        require(['plotly'], function(Plotly) {\n",
       "            window._Plotly = Plotly;\n",
       "        });\n",
       "        }\n",
       "        </script>\n",
       "        "
      ]
     },
     "metadata": {},
     "output_type": "display_data"
    }
   ],
   "source": [
    "# Initialize Plotly for use in the notebook\n",
    "from plotly.offline import init_notebook_mode\n",
    "init_notebook_mode(connected=True)"
   ]
  },
  {
   "cell_type": "code",
   "execution_count": 10,
   "id": "f6c94c3b",
   "metadata": {},
   "outputs": [],
   "source": [
    "# Configure Seaborn plot styles: Set background color and use dark grid\n",
    "sns.set(rc={'axes.facecolor': '#fcf0dc'}, style='darkgrid')"
   ]
  },
  {
   "cell_type": "markdown",
   "id": "d7bb687d",
   "metadata": {},
   "source": [
    "<div style=\"border-radius:10px; padding: 15px;  font-size:100%; text-align:left\">\n",
    "<h3 align=\"left\"><font color=#ff6200>Inferences:</font></h3>\n",
    "\n",
    "Write your inferences here"
   ]
  },
  {
   "cell_type": "markdown",
   "id": "525f2928",
   "metadata": {},
   "source": [
    "<a id=\"setup\"></a>\n",
    "# <h4 style=\"font-family:calibri; color:white;font-family:Verdana;\">Step 3 |  Data Cleaning & Transformation</h4>"
   ]
  },
  {
   "cell_type": "markdown",
   "id": "b55db848",
   "metadata": {},
   "source": [
    "<div style=\"border-radius:10px; padding: 15px;  font-size:100%; text-align:left\">\n",
    "\n",
    "This step encompasses a comprehensive cleaning and transformation process to refine the dataset. It includes addressing missing values, eliminating duplicate entries, correcting anomalies in product codes and descriptions, and other necessary adjustments to prepare the data for in-depth analysis and modeling."
   ]
  },
  {
   "cell_type": "markdown",
   "id": "297fd3fd",
   "metadata": {},
   "source": [
    "<a id=\"libraries\"></a>\n",
    "# <h5><span style='color:white'>Step 3.1 |</span><span style='color:white'> Handling Missing Values</span></h5>"
   ]
  },
  {
   "cell_type": "markdown",
   "id": "013cdcc7",
   "metadata": {},
   "source": [
    "<div style=\"border-radius:10px; padding: 15px;  font-size:100%; text-align:left\">\n",
    "    \n",
    "Initially, we will determine the percentage of missing values present in each column, followed by selecting the most effective strategy to address them:"
   ]
  },
  {
   "cell_type": "code",
   "execution_count": 11,
   "id": "eccaf78c",
   "metadata": {},
   "outputs": [
    {
     "data": {
      "image/png": "[encoded data removed]",
      "text/plain": [
       "<Figure size 1500x400 with 1 Axes>"
      ]
     },
     "metadata": {},
     "output_type": "display_data"
    }
   ],
   "source": [
    "# Calculating the percentage of missing values for each column\n",
    "missing_data = df.isnull().sum()\n",
    "missing_percentage = (missing_data[missing_data > 0] / df.shape[0]) * 100\n",
    "# Prepare values\n",
    "missing_percentage.sort_values(ascending=True, inplace=True)\n",
    "\n",
    "# Plot the barh chart\n",
    "fig, ax = plt.subplots(figsize=(15, 4))\n",
    "ax.barh(missing_percentage.index, missing_percentage, color='#ff6200')\n",
    "\n",
    "# Annotate the values and indexes\n",
    "for i, (value, name) in enumerate(zip(missing_percentage, missing_percentage.index)):\n",
    "    ax.text(value+0.5, i, f\"{value:.2f}%\", ha='left', va='center', fontweight='bold', fontsize=18, color='black')\n",
    "\n",
    "# Set x-axis limit\n",
    "ax.set_xlim([0, 40])\n",
    "\n",
    "# Add title and xlabel\n",
    "plt.title(\"Percentage of Missing Values\", fontweight='bold', fontsize=22)\n",
    "plt.xlabel('Percentages (%)', fontsize=16)\n",
    "plt.show()"
   ]
  },
  {
   "cell_type": "markdown",
   "id": "5d29b994",
   "metadata": {},
   "source": [
    "<h3 align=\"left\"><font color=white>Handling Missing Values Strategy:</font></h3>\n",
    "\n",
    "- __`CustomerID` (24.93% missing values)__\n",
    "   - The `CustomerID` column contains nearly a quarter of missing data. This column is essential for clustering customers and creating a recommendation system. Imputing such a large percentage of missing values might introduce significant bias or noise into the analysis.\n",
    "    \n",
    "   - Moreover, since the clustering is based on customer behavior and preferences, it's crucial to have accurate data on customer identifiers. Therefore, removing the rows with missing `CustomerID`s seems to be the most reasonable approach to maintain the integrity of the clusters and the analysis.\n",
    "\n",
    "    \n",
    "- __`Description` (0.27% missing values)__\n",
    "   - The `Description` column has a minor percentage of missing values. However, it has been noticed that there are inconsistencies in the data where the same `StockCode` does not always have the same `Description`. This indicates data quality issues and potential errors in the product descriptions.\n",
    "    \n",
    "   - Given these inconsistencies, imputing the missing descriptions based on `StockCode` might not be reliable. Moreover, since the missing percentage is quite low, it would be prudent to remove the rows with missing `Description`s to avoid propagating errors and inconsistencies into the subsequent analyses.\n",
    "   \n",
    "By removing rows with missing values in the `CustomerID` and `Description` columns, we aim to construct a cleaner and more reliable dataset, which is essential for achieving accurate clustering and creating an effective recommendation system.\n"
   ]
  },
  {
   "cell_type": "code",
   "execution_count": 34,
   "id": "2bbd20b1",
   "metadata": {},
   "outputs": [
    {
     "data": {
      "text/html": [
       "<div>\n",
       "<style scoped>\n",
       "    .dataframe tbody tr th:only-of-type {\n",
       "        vertical-align: middle;\n",
       "    }\n",
       "\n",
       "    .dataframe tbody tr th {\n",
       "        vertical-align: top;\n",
       "    }\n",
       "\n",
       "    .dataframe thead th {\n",
       "        text-align: right;\n",
       "    }\n",
       "</style>\n",
       "<table border=\"1\" class=\"dataframe\">\n",
       "  <thead>\n",
       "    <tr style=\"text-align: right;\">\n",
       "      <th></th>\n",
       "      <th>InvoiceNo</th>\n",
       "      <th>StockCode</th>\n",
       "      <th>Description</th>\n",
       "      <th>Quantity</th>\n",
       "      <th>InvoiceDate</th>\n",
       "      <th>UnitPrice</th>\n",
       "      <th>CustomerID</th>\n",
       "      <th>Country</th>\n",
       "    </tr>\n",
       "  </thead>\n",
       "  <tbody>\n",
       "    <tr>\n",
       "      <th>622</th>\n",
       "      <td>536414</td>\n",
       "      <td>22139</td>\n",
       "      <td>NaN</td>\n",
       "      <td>56</td>\n",
       "      <td>12/1/2010 11:52</td>\n",
       "      <td>0.00</td>\n",
       "      <td>NaN</td>\n",
       "      <td>United Kingdom</td>\n",
       "    </tr>\n",
       "    <tr>\n",
       "      <th>1443</th>\n",
       "      <td>536544</td>\n",
       "      <td>21773</td>\n",
       "      <td>DECORATIVE ROSE BATHROOM BOTTLE</td>\n",
       "      <td>1</td>\n",
       "      <td>12/1/2010 14:32</td>\n",
       "      <td>2.51</td>\n",
       "      <td>NaN</td>\n",
       "      <td>United Kingdom</td>\n",
       "    </tr>\n",
       "    <tr>\n",
       "      <th>1444</th>\n",
       "      <td>536544</td>\n",
       "      <td>21774</td>\n",
       "      <td>DECORATIVE CATS BATHROOM BOTTLE</td>\n",
       "      <td>2</td>\n",
       "      <td>12/1/2010 14:32</td>\n",
       "      <td>2.51</td>\n",
       "      <td>NaN</td>\n",
       "      <td>United Kingdom</td>\n",
       "    </tr>\n",
       "    <tr>\n",
       "      <th>1445</th>\n",
       "      <td>536544</td>\n",
       "      <td>21786</td>\n",
       "      <td>POLKADOT RAIN HAT</td>\n",
       "      <td>4</td>\n",
       "      <td>12/1/2010 14:32</td>\n",
       "      <td>0.85</td>\n",
       "      <td>NaN</td>\n",
       "      <td>United Kingdom</td>\n",
       "    </tr>\n",
       "    <tr>\n",
       "      <th>1446</th>\n",
       "      <td>536544</td>\n",
       "      <td>21787</td>\n",
       "      <td>RAIN PONCHO RETROSPOT</td>\n",
       "      <td>2</td>\n",
       "      <td>12/1/2010 14:32</td>\n",
       "      <td>1.66</td>\n",
       "      <td>NaN</td>\n",
       "      <td>United Kingdom</td>\n",
       "    </tr>\n",
       "  </tbody>\n",
       "</table>\n",
       "</div>"
      ],
      "text/plain": [
       "     InvoiceNo StockCode                      Description  Quantity  \\\n",
       "622     536414     22139                              NaN        56   \n",
       "1443    536544     21773  DECORATIVE ROSE BATHROOM BOTTLE         1   \n",
       "1444    536544     21774  DECORATIVE CATS BATHROOM BOTTLE         2   \n",
       "1445    536544     21786               POLKADOT RAIN HAT          4   \n",
       "1446    536544     21787            RAIN PONCHO RETROSPOT         2   \n",
       "\n",
       "          InvoiceDate  UnitPrice  CustomerID         Country  \n",
       "622   12/1/2010 11:52       0.00         NaN  United Kingdom  \n",
       "1443  12/1/2010 14:32       2.51         NaN  United Kingdom  \n",
       "1444  12/1/2010 14:32       2.51         NaN  United Kingdom  \n",
       "1445  12/1/2010 14:32       0.85         NaN  United Kingdom  \n",
       "1446  12/1/2010 14:32       1.66         NaN  United Kingdom  "
      ]
     },
     "execution_count": 34,
     "metadata": {},
     "output_type": "execute_result"
    }
   ],
   "source": [
    "# Extracting rows with missing values in 'CustomerID' or 'Description' columns\n",
    "df[df['CustomerID'].isnull() | df['Description'].isnull()].head()"
   ]
  },
  {
   "cell_type": "code",
   "execution_count": 35,
   "id": "5638b2a4",
   "metadata": {},
   "outputs": [],
   "source": [
    "# Removing rows with missing values in 'CustomerID' and 'Description' columns\n",
    "df = df.dropna(subset=['CustomerID', 'Description'])"
   ]
  },
  {
   "cell_type": "code",
   "execution_count": 36,
   "id": "aca65901",
   "metadata": {},
   "outputs": [
    {
     "data": {
      "text/html": [
       "<div>\n",
       "<style scoped>\n",
       "    .dataframe tbody tr th:only-of-type {\n",
       "        vertical-align: middle;\n",
       "    }\n",
       "\n",
       "    .dataframe tbody tr th {\n",
       "        vertical-align: top;\n",
       "    }\n",
       "\n",
       "    .dataframe thead th {\n",
       "        text-align: right;\n",
       "    }\n",
       "</style>\n",
       "<table border=\"1\" class=\"dataframe\">\n",
       "  <thead>\n",
       "    <tr style=\"text-align: right;\">\n",
       "      <th></th>\n",
       "      <th>InvoiceNo</th>\n",
       "      <th>StockCode</th>\n",
       "      <th>Description</th>\n",
       "      <th>Quantity</th>\n",
       "      <th>InvoiceDate</th>\n",
       "      <th>UnitPrice</th>\n",
       "      <th>CustomerID</th>\n",
       "      <th>Country</th>\n",
       "    </tr>\n",
       "  </thead>\n",
       "  <tbody>\n",
       "    <tr>\n",
       "      <th>82875</th>\n",
       "      <td>543273</td>\n",
       "      <td>22969</td>\n",
       "      <td>HOMEMADE JAM SCENTED CANDLES</td>\n",
       "      <td>12</td>\n",
       "      <td>2/6/2011 11:29</td>\n",
       "      <td>1.45</td>\n",
       "      <td>16456.0</td>\n",
       "      <td>United Kingdom</td>\n",
       "    </tr>\n",
       "    <tr>\n",
       "      <th>339588</th>\n",
       "      <td>566600</td>\n",
       "      <td>22115</td>\n",
       "      <td>METAL SIGN EMPIRE TEA</td>\n",
       "      <td>12</td>\n",
       "      <td>9/13/2011 15:41</td>\n",
       "      <td>0.79</td>\n",
       "      <td>13704.0</td>\n",
       "      <td>United Kingdom</td>\n",
       "    </tr>\n",
       "    <tr>\n",
       "      <th>125180</th>\n",
       "      <td>547028</td>\n",
       "      <td>84406B</td>\n",
       "      <td>CREAM CUPID HEARTS COAT HANGER</td>\n",
       "      <td>8</td>\n",
       "      <td>3/20/2011 10:13</td>\n",
       "      <td>4.15</td>\n",
       "      <td>13593.0</td>\n",
       "      <td>United Kingdom</td>\n",
       "    </tr>\n",
       "    <tr>\n",
       "      <th>378706</th>\n",
       "      <td>569662</td>\n",
       "      <td>23313</td>\n",
       "      <td>VINTAGE CHRISTMAS BUNTING</td>\n",
       "      <td>5</td>\n",
       "      <td>10/5/2011 13:19</td>\n",
       "      <td>4.95</td>\n",
       "      <td>15244.0</td>\n",
       "      <td>United Kingdom</td>\n",
       "    </tr>\n",
       "    <tr>\n",
       "      <th>471152</th>\n",
       "      <td>576622</td>\n",
       "      <td>22457</td>\n",
       "      <td>NATURAL SLATE HEART CHALKBOARD</td>\n",
       "      <td>6</td>\n",
       "      <td>11/15/2011 17:11</td>\n",
       "      <td>2.95</td>\n",
       "      <td>14217.0</td>\n",
       "      <td>United Kingdom</td>\n",
       "    </tr>\n",
       "    <tr>\n",
       "      <th>14766</th>\n",
       "      <td>537617</td>\n",
       "      <td>20967</td>\n",
       "      <td>GREY FLORAL FELTCRAFT SHOULDER BAG</td>\n",
       "      <td>4</td>\n",
       "      <td>12/7/2010 13:45</td>\n",
       "      <td>3.75</td>\n",
       "      <td>16086.0</td>\n",
       "      <td>United Kingdom</td>\n",
       "    </tr>\n",
       "    <tr>\n",
       "      <th>153869</th>\n",
       "      <td>549831</td>\n",
       "      <td>21668</td>\n",
       "      <td>RED STRIPE CERAMIC DRAWER KNOB</td>\n",
       "      <td>12</td>\n",
       "      <td>4/12/2011 13:10</td>\n",
       "      <td>1.25</td>\n",
       "      <td>14844.0</td>\n",
       "      <td>United Kingdom</td>\n",
       "    </tr>\n",
       "    <tr>\n",
       "      <th>359843</th>\n",
       "      <td>568198</td>\n",
       "      <td>20846</td>\n",
       "      <td>ZINC HEART LATTICE T-LIGHT HOLDER</td>\n",
       "      <td>4</td>\n",
       "      <td>9/25/2011 14:52</td>\n",
       "      <td>1.25</td>\n",
       "      <td>16771.0</td>\n",
       "      <td>United Kingdom</td>\n",
       "    </tr>\n",
       "    <tr>\n",
       "      <th>155408</th>\n",
       "      <td>549985</td>\n",
       "      <td>23256</td>\n",
       "      <td>CHILDRENS CUTLERY SPACEBOY</td>\n",
       "      <td>4</td>\n",
       "      <td>4/13/2011 15:58</td>\n",
       "      <td>4.15</td>\n",
       "      <td>15640.0</td>\n",
       "      <td>United Kingdom</td>\n",
       "    </tr>\n",
       "    <tr>\n",
       "      <th>189243</th>\n",
       "      <td>553142</td>\n",
       "      <td>22898</td>\n",
       "      <td>CHILDRENS APRON APPLES DESIGN</td>\n",
       "      <td>2</td>\n",
       "      <td>5/13/2011 13:05</td>\n",
       "      <td>1.95</td>\n",
       "      <td>14527.0</td>\n",
       "      <td>United Kingdom</td>\n",
       "    </tr>\n",
       "  </tbody>\n",
       "</table>\n",
       "</div>"
      ],
      "text/plain": [
       "       InvoiceNo StockCode                         Description  Quantity  \\\n",
       "82875     543273     22969        HOMEMADE JAM SCENTED CANDLES        12   \n",
       "339588    566600     22115               METAL SIGN EMPIRE TEA        12   \n",
       "125180    547028    84406B      CREAM CUPID HEARTS COAT HANGER         8   \n",
       "378706    569662     23313           VINTAGE CHRISTMAS BUNTING         5   \n",
       "471152    576622     22457     NATURAL SLATE HEART CHALKBOARD          6   \n",
       "14766     537617     20967  GREY FLORAL FELTCRAFT SHOULDER BAG         4   \n",
       "153869    549831     21668      RED STRIPE CERAMIC DRAWER KNOB        12   \n",
       "359843    568198     20846   ZINC HEART LATTICE T-LIGHT HOLDER         4   \n",
       "155408    549985     23256         CHILDRENS CUTLERY SPACEBOY          4   \n",
       "189243    553142     22898       CHILDRENS APRON APPLES DESIGN         2   \n",
       "\n",
       "             InvoiceDate  UnitPrice  CustomerID         Country  \n",
       "82875     2/6/2011 11:29       1.45     16456.0  United Kingdom  \n",
       "339588   9/13/2011 15:41       0.79     13704.0  United Kingdom  \n",
       "125180   3/20/2011 10:13       4.15     13593.0  United Kingdom  \n",
       "378706   10/5/2011 13:19       4.95     15244.0  United Kingdom  \n",
       "471152  11/15/2011 17:11       2.95     14217.0  United Kingdom  \n",
       "14766    12/7/2010 13:45       3.75     16086.0  United Kingdom  \n",
       "153869   4/12/2011 13:10       1.25     14844.0  United Kingdom  \n",
       "359843   9/25/2011 14:52       1.25     16771.0  United Kingdom  \n",
       "155408   4/13/2011 15:58       4.15     15640.0  United Kingdom  \n",
       "189243   5/13/2011 13:05       1.95     14527.0  United Kingdom  "
      ]
     },
     "execution_count": 36,
     "metadata": {},
     "output_type": "execute_result"
    }
   ],
   "source": [
    "df.sample(10)"
   ]
  },
  {
   "cell_type": "code",
   "execution_count": 37,
   "id": "7bd92f7c",
   "metadata": {},
   "outputs": [
    {
     "data": {
      "text/plain": [
       "0"
      ]
     },
     "execution_count": 37,
     "metadata": {},
     "output_type": "execute_result"
    }
   ],
   "source": [
    "# Verifying the removal of missing values\n",
    "df.isnull().sum().sum()"
   ]
  },
  {
   "cell_type": "markdown",
   "id": "92451d70",
   "metadata": {},
   "source": [
    "<a id=\"libraries\"></a>\n",
    "# <h5><span style='color:white'>Step 3.2 |</span><span style='color:white'> Handling Duplicates</span></h5>"
   ]
  },
  {
   "cell_type": "markdown",
   "id": "a5ed0b86",
   "metadata": {},
   "source": [
    "<div style=\"border-radius:10px; padding: 15px;  font-size:100%; text-align:left\">\n",
    "    \n",
    "Next, we are going to recognize duplicate rows in the dataset:"
   ]
  },
  {
   "cell_type": "code",
   "execution_count": 38,
   "id": "88029881",
   "metadata": {},
   "outputs": [
    {
     "data": {
      "text/html": [
       "<div>\n",
       "<style scoped>\n",
       "    .dataframe tbody tr th:only-of-type {\n",
       "        vertical-align: middle;\n",
       "    }\n",
       "\n",
       "    .dataframe tbody tr th {\n",
       "        vertical-align: top;\n",
       "    }\n",
       "\n",
       "    .dataframe thead th {\n",
       "        text-align: right;\n",
       "    }\n",
       "</style>\n",
       "<table border=\"1\" class=\"dataframe\">\n",
       "  <thead>\n",
       "    <tr style=\"text-align: right;\">\n",
       "      <th></th>\n",
       "      <th>InvoiceNo</th>\n",
       "      <th>StockCode</th>\n",
       "      <th>Description</th>\n",
       "      <th>Quantity</th>\n",
       "      <th>InvoiceDate</th>\n",
       "      <th>UnitPrice</th>\n",
       "      <th>CustomerID</th>\n",
       "      <th>Country</th>\n",
       "    </tr>\n",
       "  </thead>\n",
       "  <tbody>\n",
       "    <tr>\n",
       "      <th>494</th>\n",
       "      <td>536409</td>\n",
       "      <td>21866</td>\n",
       "      <td>UNION JACK FLAG LUGGAGE TAG</td>\n",
       "      <td>1</td>\n",
       "      <td>12/1/2010 11:45</td>\n",
       "      <td>1.25</td>\n",
       "      <td>17908.0</td>\n",
       "      <td>United Kingdom</td>\n",
       "    </tr>\n",
       "    <tr>\n",
       "      <th>517</th>\n",
       "      <td>536409</td>\n",
       "      <td>21866</td>\n",
       "      <td>UNION JACK FLAG LUGGAGE TAG</td>\n",
       "      <td>1</td>\n",
       "      <td>12/1/2010 11:45</td>\n",
       "      <td>1.25</td>\n",
       "      <td>17908.0</td>\n",
       "      <td>United Kingdom</td>\n",
       "    </tr>\n",
       "    <tr>\n",
       "      <th>485</th>\n",
       "      <td>536409</td>\n",
       "      <td>22111</td>\n",
       "      <td>SCOTTIE DOG HOT WATER BOTTLE</td>\n",
       "      <td>1</td>\n",
       "      <td>12/1/2010 11:45</td>\n",
       "      <td>4.95</td>\n",
       "      <td>17908.0</td>\n",
       "      <td>United Kingdom</td>\n",
       "    </tr>\n",
       "    <tr>\n",
       "      <th>539</th>\n",
       "      <td>536409</td>\n",
       "      <td>22111</td>\n",
       "      <td>SCOTTIE DOG HOT WATER BOTTLE</td>\n",
       "      <td>1</td>\n",
       "      <td>12/1/2010 11:45</td>\n",
       "      <td>4.95</td>\n",
       "      <td>17908.0</td>\n",
       "      <td>United Kingdom</td>\n",
       "    </tr>\n",
       "    <tr>\n",
       "      <th>489</th>\n",
       "      <td>536409</td>\n",
       "      <td>22866</td>\n",
       "      <td>HAND WARMER SCOTTY DOG DESIGN</td>\n",
       "      <td>1</td>\n",
       "      <td>12/1/2010 11:45</td>\n",
       "      <td>2.10</td>\n",
       "      <td>17908.0</td>\n",
       "      <td>United Kingdom</td>\n",
       "    </tr>\n",
       "    <tr>\n",
       "      <th>527</th>\n",
       "      <td>536409</td>\n",
       "      <td>22866</td>\n",
       "      <td>HAND WARMER SCOTTY DOG DESIGN</td>\n",
       "      <td>1</td>\n",
       "      <td>12/1/2010 11:45</td>\n",
       "      <td>2.10</td>\n",
       "      <td>17908.0</td>\n",
       "      <td>United Kingdom</td>\n",
       "    </tr>\n",
       "    <tr>\n",
       "      <th>521</th>\n",
       "      <td>536409</td>\n",
       "      <td>22900</td>\n",
       "      <td>SET 2 TEA TOWELS I LOVE LONDON</td>\n",
       "      <td>1</td>\n",
       "      <td>12/1/2010 11:45</td>\n",
       "      <td>2.95</td>\n",
       "      <td>17908.0</td>\n",
       "      <td>United Kingdom</td>\n",
       "    </tr>\n",
       "    <tr>\n",
       "      <th>537</th>\n",
       "      <td>536409</td>\n",
       "      <td>22900</td>\n",
       "      <td>SET 2 TEA TOWELS I LOVE LONDON</td>\n",
       "      <td>1</td>\n",
       "      <td>12/1/2010 11:45</td>\n",
       "      <td>2.95</td>\n",
       "      <td>17908.0</td>\n",
       "      <td>United Kingdom</td>\n",
       "    </tr>\n",
       "    <tr>\n",
       "      <th>578</th>\n",
       "      <td>536412</td>\n",
       "      <td>21448</td>\n",
       "      <td>12 DAISY PEGS IN WOOD BOX</td>\n",
       "      <td>1</td>\n",
       "      <td>12/1/2010 11:49</td>\n",
       "      <td>1.65</td>\n",
       "      <td>17920.0</td>\n",
       "      <td>United Kingdom</td>\n",
       "    </tr>\n",
       "    <tr>\n",
       "      <th>598</th>\n",
       "      <td>536412</td>\n",
       "      <td>21448</td>\n",
       "      <td>12 DAISY PEGS IN WOOD BOX</td>\n",
       "      <td>1</td>\n",
       "      <td>12/1/2010 11:49</td>\n",
       "      <td>1.65</td>\n",
       "      <td>17920.0</td>\n",
       "      <td>United Kingdom</td>\n",
       "    </tr>\n",
       "  </tbody>\n",
       "</table>\n",
       "</div>"
      ],
      "text/plain": [
       "    InvoiceNo StockCode                       Description  Quantity  \\\n",
       "494    536409     21866       UNION JACK FLAG LUGGAGE TAG         1   \n",
       "517    536409     21866       UNION JACK FLAG LUGGAGE TAG         1   \n",
       "485    536409     22111      SCOTTIE DOG HOT WATER BOTTLE         1   \n",
       "539    536409     22111      SCOTTIE DOG HOT WATER BOTTLE         1   \n",
       "489    536409     22866     HAND WARMER SCOTTY DOG DESIGN         1   \n",
       "527    536409     22866     HAND WARMER SCOTTY DOG DESIGN         1   \n",
       "521    536409     22900   SET 2 TEA TOWELS I LOVE LONDON          1   \n",
       "537    536409     22900   SET 2 TEA TOWELS I LOVE LONDON          1   \n",
       "578    536412     21448         12 DAISY PEGS IN WOOD BOX         1   \n",
       "598    536412     21448         12 DAISY PEGS IN WOOD BOX         1   \n",
       "\n",
       "         InvoiceDate  UnitPrice  CustomerID         Country  \n",
       "494  12/1/2010 11:45       1.25     17908.0  United Kingdom  \n",
       "517  12/1/2010 11:45       1.25     17908.0  United Kingdom  \n",
       "485  12/1/2010 11:45       4.95     17908.0  United Kingdom  \n",
       "539  12/1/2010 11:45       4.95     17908.0  United Kingdom  \n",
       "489  12/1/2010 11:45       2.10     17908.0  United Kingdom  \n",
       "527  12/1/2010 11:45       2.10     17908.0  United Kingdom  \n",
       "521  12/1/2010 11:45       2.95     17908.0  United Kingdom  \n",
       "537  12/1/2010 11:45       2.95     17908.0  United Kingdom  \n",
       "578  12/1/2010 11:49       1.65     17920.0  United Kingdom  \n",
       "598  12/1/2010 11:49       1.65     17920.0  United Kingdom  "
      ]
     },
     "execution_count": 38,
     "metadata": {},
     "output_type": "execute_result"
    }
   ],
   "source": [
    "# Finding duplicate rows (keeping all instances)\n",
    "duplicate_rows = df[df.duplicated(keep=False)]\n",
    "\n",
    "# Sorting the data by certain columns to see the duplicate rows next to each other\n",
    "duplicate_rows_sorted = duplicate_rows.sort_values(by=['InvoiceNo', 'StockCode', 'Description', 'CustomerID', 'Quantity'])\n",
    "\n",
    "# Displaying the first 10 records\n",
    "duplicate_rows_sorted.head(10)"
   ]
  },
  {
   "cell_type": "markdown",
   "id": "de9415c9",
   "metadata": {},
   "source": [
    "<div style=\"border-radius:10px; padding: 15px;  font-size:100%; text-align:left\">\n",
    "\n",
    "<h3 align=\"left\"><font color=#ff6200>Handling Duplicates Strategy:</font></h3>\n",
    "    \n",
    "In the context of this project, the presence of completely identical rows, including identical transaction times, suggests that these might be data recording errors rather than genuine repeated transactions. Keeping these duplicate rows can introduce noise and potential inaccuracies in the clustering and recommendation system. \n",
    "\n",
    "Therefore, I am going to remove these completely identical duplicate rows from the dataset. Removing these rows will help in achieving a cleaner dataset, which in turn would aid in building more accurate customer clusters based on their unique purchasing behaviors. Moreover, it would help in creating a more precise recommendation system by correctly identifying the products with the most purchases."
   ]
  },
  {
   "cell_type": "code",
   "execution_count": 39,
   "id": "2e6a2c64",
   "metadata": {},
   "outputs": [
    {
     "name": "stdout",
     "output_type": "stream",
     "text": [
      "The dataset contains 5225 duplicate rows that need to be removed.\n"
     ]
    }
   ],
   "source": [
    "# Displaying the number of duplicate rows\n",
    "print(f\"The dataset contains {df.duplicated().sum()} duplicate rows that need to be removed.\")\n",
    "\n",
    "# Removing duplicate rows\n",
    "df.drop_duplicates(inplace=True)"
   ]
  },
  {
   "cell_type": "code",
   "execution_count": 40,
   "id": "57f64741",
   "metadata": {},
   "outputs": [
    {
     "data": {
      "text/plain": [
       "401604"
      ]
     },
     "execution_count": 40,
     "metadata": {},
     "output_type": "execute_result"
    }
   ],
   "source": [
    "# Getting the number of rows in the dataframe\n",
    "df.shape[0]"
   ]
  },
  {
   "cell_type": "markdown",
   "id": "ba7bfa2a",
   "metadata": {},
   "source": [
    "<a id=\"libraries\"></a>\n",
    "# <h5><span style='color:white'>Step 3.3 |</span><span style='color:white'> Treating Cancelled Transactions</span></h5>"
   ]
  },
  {
   "cell_type": "markdown",
   "id": "9fb4e091",
   "metadata": {},
   "source": [
    "<div style=\"border-radius:10px; padding: 15px;  font-size:100%; text-align:left\">\n",
    "\n",
    "To refine our understanding of customer behavior and preferences, we need to take into account the transactions that were cancelled. Initially, we will identify these transactions by filtering the rows where the `InvoiceNo` starts with \"C\". Subsequently, we will analyze these rows to understand their common characteristics or patterns:"
   ]
  },
  {
   "cell_type": "code",
   "execution_count": 41,
   "metadata": {},
   "outputs": [
    {
     "data": {
      "text/html": [
       "<div>\n",
       "<style scoped>\n",
       "    .dataframe tbody tr th:only-of-type {\n",
       "        vertical-align: middle;\n",
       "    }\n",
       "\n",
       "    .dataframe tbody tr th {\n",
       "        vertical-align: top;\n",
       "    }\n",
       "\n",
       "    .dataframe thead th {\n",
       "        text-align: right;\n",
       "    }\n",
       "</style>\n",
       "<table border=\"1\" class=\"dataframe\">\n",
       "  <thead>\n",
       "    <tr style=\"text-align: right;\">\n",
       "      <th></th>\n",
       "      <th>Quantity</th>\n",
       "      <th>UnitPrice</th>\n",
       "    </tr>\n",
       "  </thead>\n",
       "  <tbody>\n",
       "    <tr>\n",
       "      <th>count</th>\n",
       "      <td>8872.000000</td>\n",
       "      <td>8872.000000</td>\n",
       "    </tr>\n",
       "    <tr>\n",
       "      <th>mean</th>\n",
       "      <td>-30.774910</td>\n",
       "      <td>18.899512</td>\n",
       "    </tr>\n",
       "    <tr>\n",
       "      <th>std</th>\n",
       "      <td>1172.249902</td>\n",
       "      <td>445.190864</td>\n",
       "    </tr>\n",
       "    <tr>\n",
       "      <th>min</th>\n",
       "      <td>-80995.000000</td>\n",
       "      <td>0.010000</td>\n",
       "    </tr>\n",
       "    <tr>\n",
       "      <th>25%</th>\n",
       "      <td>-6.000000</td>\n",
       "      <td>1.450000</td>\n",
       "    </tr>\n",
       "    <tr>\n",
       "      <th>50%</th>\n",
       "      <td>-2.000000</td>\n",
       "      <td>2.950000</td>\n",
       "    </tr>\n",
       "    <tr>\n",
       "      <th>75%</th>\n",
       "      <td>-1.000000</td>\n",
       "      <td>4.950000</td>\n",
       "    </tr>\n",
       "    <tr>\n",
       "      <th>max</th>\n",
       "      <td>-1.000000</td>\n",
       "      <td>38970.000000</td>\n",
       "    </tr>\n",
       "  </tbody>\n",
       "</table>\n",
       "</div>"
      ],
      "text/plain": [
       "           Quantity     UnitPrice\n",
       "count   8872.000000   8872.000000\n",
       "mean     -30.774910     18.899512\n",
       "std     1172.249902    445.190864\n",
       "min   -80995.000000      0.010000\n",
       "25%       -6.000000      1.450000\n",
       "50%       -2.000000      2.950000\n",
       "75%       -1.000000      4.950000\n",
       "max       -1.000000  38970.000000"
      ]
     },
     "execution_count": 41,
     "metadata": {},
     "output_type": "execute_result"
    }
   ],
   "source": [
    "# Filter out the rows with InvoiceNo starting with \"C\" and create a new column indicating the transaction status\n",
    "df['Transaction_Status'] = np.where(df['InvoiceNo'].astype(str).str.startswith('C'), 'Cancelled', 'Completed')\n",
    "'''\n",
    "C14245345  Cancelled\n",
    "35365563   Completed\n",
    "'''\n",
    "# Analyze the characteristics of these rows (considering the new column)\n",
    "cancelled_transactions = df[df['Transaction_Status'] == 'Cancelled']\n",
    "cancelled_transactions.describe().drop('CustomerID', axis=1)"
   ]
  },
  {
   "cell_type": "markdown",
   "metadata": {},
   "source": [
    "<div style=\"border-radius:10px; padding: 15px;  font-size:100%; text-align:left\">\n",
    "<h3 align=\"left\"><font color=#ff6200>Inferences from the Cancelled Transactions Data:</font></h3>\n",
    "\n",
    "Write your inferences here\n"
   ]
  },
  {
   "cell_type": "markdown",
   "metadata": {},
   "source": [
    "<div style=\"border-radius:10px; padding: 15px;  font-size:100%; text-align:left\">\n",
    "<h3 align=\"left\"><font color=#ff6200>Strategy for Handling Cancelled Transactions:</font></h3>\n",
    "    \n",
    "Considering the project's objective to cluster customers based on their purchasing behavior and preferences and to eventually create a recommendation system, it's imperative to understand the cancellation patterns of customers. Therefore, the strategy is to retain these cancelled transactions in the dataset, marking them distinctly to facilitate further analysis. This approach will:\n",
    "\n",
    "- Enhance the clustering process by incorporating patterns and trends observed in cancellation data, which might represent certain customer behaviors or preferences.\n",
    "    \n",
    "    \n",
    "- Allow the recommendation system to possibly prevent suggesting products that have a high likelihood of being cancelled, thereby improving the quality of recommendations.\n",
    "\n"
   ]
  },
  {
   "cell_type": "code",
   "execution_count": 42,
   "metadata": {},
   "outputs": [
    {
     "name": "stdout",
     "output_type": "stream",
     "text": [
      "The percentage of cancelled transactions in the dataset is: 2.21%\n"
     ]
    }
   ],
   "source": [
    "# Finding the percentage of cancelled transactions\n",
    "cancelled_percentage = (cancelled_transactions.shape[0] / df.shape[0]) * 100\n",
    "\n",
    "# Printing the percentage of cancelled transactions\n",
    "print(f\"The percentage of cancelled transactions in the dataset is: {cancelled_percentage:.2f}%\")"
   ]
  },
  {
   "cell_type": "markdown",
   "metadata": {},
   "source": [
    "<a id=\"libraries\"></a>\n",
    "# <h5><span style='color:white'>Step 3.4 |</span><span style='color:white'> Correcting StockCode Anomalies</span></h5>"
   ]
  },
  {
   "cell_type": "markdown",
   "metadata": {},
   "source": [
    "<div style=\"border-radius:10px; padding: 15px;  font-size:100%; text-align:left\">\n",
    "\n",
    "First of all, lets find the number of unique stock codes and to plot the top 10 most frequent stock codes along with their percentage frequency:"
   ]
  },
  {
   "cell_type": "code",
   "execution_count": 43,
   "metadata": {},
   "outputs": [
    {
     "name": "stdout",
     "output_type": "stream",
     "text": [
      "The number of unique stock codes in the dataset is: 3684\n"
     ]
    }
   ],
   "source": [
    "# Finding the number of unique stock codes\n",
    "unique_stock_codes = df['StockCode'].nunique()\n",
    "\n",
    "# Printing the number of unique stock codes\n",
    "print(f\"The number of unique stock codes in the dataset is: {unique_stock_codes}\")"
   ]
  },
  {
   "cell_type": "code",
   "execution_count": 44,
   "metadata": {},
   "outputs": [
    {
     "data": {
      "image/png": "[encoded data removed]",
      "text/plain": [
       "<Figure size 1200x500 with 1 Axes>"
      ]
     },
     "metadata": {},
     "output_type": "display_data"
    }
   ],
   "source": [
    "# Finding the top 10 most frequent stock codes\n",
    "top_10_stock_codes = df['StockCode'].value_counts(normalize=True).head(10) * 100\n",
    "# Plotting the top 10 most frequent stock codes\n",
    "plt.figure(figsize=(12, 5))\n",
    "top_10_stock_codes.plot(kind='barh', color='#ff6200')\n",
    "\n",
    "# Adding the percentage frequency on the bars\n",
    "for index, value in enumerate(top_10_stock_codes):\n",
    "    plt.text(value, index+0.25, f'{value:.2f}%', fontsize=10)\n",
    "\n",
    "plt.title('Top 10 Most Frequent Stock Codes')\n",
    "plt.xlabel('Percentage Frequency (%)')\n",
    "plt.ylabel('Stock Codes')\n",
    "plt.gca().invert_yaxis()\n",
    "plt.show()"
   ]
  },
  {
   "cell_type": "markdown",
   "metadata": {},
   "source": [
    "<div style=\"border-radius:10px; padding: 15px;  font-size:100%; text-align:left\">\n",
    "<h3 align=\"left\"><font color=#ff6200>Inferences on Stock Codes:</font></h3>\n",
    "\n",
    "Write your inferences here"
   ]
  },
  {
   "cell_type": "markdown",
   "metadata": {},
   "source": [
    "<div style=\"border-radius:10px; padding: 15px;  font-size:100%; text-align:left\">\n",
    "    \n",
    "To delve deeper into identifying these anomalies, let's explore the frequency of the number of numeric characters in the stock codes, which can provide insights into the nature of these unusual entries:"
   ]
  },
  {
   "cell_type": "code",
   "execution_count": 45,
   "metadata": {},
   "outputs": [
    {
     "name": "stdout",
     "output_type": "stream",
     "text": [
      "Value counts of numeric character frequencies in unique stock codes:\n",
      "----------------------------------------------------------------------\n",
      "5    3676\n",
      "0       7\n",
      "1       1\n",
      "Name: count, dtype: int64\n"
     ]
    }
   ],
   "source": [
    "# Finding the number of numeric characters in each unique stock code\n",
    "unique_stock_codes = df['StockCode'].unique()\n",
    "numeric_char_counts_in_unique_codes = pd.Series(unique_stock_codes).apply(lambda x: sum(c.isdigit() for c in str(x))).value_counts()\n",
    "\n",
    "# Printing the value counts for unique stock codes\n",
    "print(\"Value counts of numeric character frequencies in unique stock codes:\")\n",
    "print(\"-\"*70)\n",
    "print(numeric_char_counts_in_unique_codes)"
   ]
  },
  {
   "cell_type": "code",
   "execution_count": 46,
   "metadata": {},
   "outputs": [
    {
     "name": "stdout",
     "output_type": "stream",
     "text": [
      "Anomalous stock codes:\n",
      "----------------------\n",
      "POST\n",
      "D\n",
      "C2\n",
      "M\n",
      "BANK CHARGES\n",
      "PADS\n",
      "DOT\n",
      "CRUK\n"
     ]
    }
   ],
   "source": [
    "# Finding and printing the stock codes with 0 and 1 numeric characters\n",
    "anomalous_stock_codes = [code for code in unique_stock_codes if sum(c.isdigit() for c in str(code)) in (0, 1)]\n",
    "\n",
    "# Printing each stock code on a new line\n",
    "print(\"Anomalous stock codes:\")\n",
    "print(\"-\"*22)\n",
    "for code in anomalous_stock_codes:\n",
    "    print(code)"
   ]
  },
  {
   "cell_type": "markdown",
   "metadata": {},
   "source": [
    "<div style=\"border-radius:10px; padding: 15px;  font-size:100%; text-align:left\">\n",
    "    \n",
    "Let's calculate the percentage of records with these anomalous stock codes:    "
   ]
  },
  {
   "cell_type": "code",
   "execution_count": 47,
   "metadata": {},
   "outputs": [
    {
     "name": "stdout",
     "output_type": "stream",
     "text": [
      "The percentage of records with anomalous stock codes in the dataset is: 0.48%\n"
     ]
    }
   ],
   "source": [
    "# Calculating the percentage of records with these stock codes\n",
    "percentage_anomalous = (df['StockCode'].isin(anomalous_stock_codes).sum() / len(df)) * 100\n",
    "\n",
    "# Printing the percentage\n",
    "print(f\"The percentage of records with anomalous stock codes in the dataset is: {percentage_anomalous:.2f}%\")"
   ]
  },
  {
   "cell_type": "markdown",
   "metadata": {},
   "source": [
    "<h3 align=\"left\"><font color=#ff6200>Strategy:</font></h3>\n",
    "\n",
    "Given the context of the project, where the aim is to cluster customers based on their product purchasing behaviors and develop a product recommendation system, it would be prudent to exclude these records with anomalous stock codes from the dataset. This way, the focus remains strictly on genuine product transactions, which would lead to a more accurate and meaningful analysis."
   ]
  },
  {
   "cell_type": "markdown",
   "metadata": {},
   "source": [
    "   \n",
    "Thus, the strategy would be to filter out and remove rows with these anomalous stock codes from the dataset before proceeding with further analysis and model development:"
   ]
  },
  {
   "cell_type": "code",
   "execution_count": 48,
   "metadata": {},
   "outputs": [],
   "source": [
    "# Removing rows with anomalous stock codes from the dataset\n",
    "df = df[~df['StockCode'].isin(anomalous_stock_codes)]"
   ]
  },
  {
   "cell_type": "code",
   "execution_count": 49,
   "metadata": {},
   "outputs": [
    {
     "data": {
      "text/plain": [
       "399689"
      ]
     },
     "execution_count": 49,
     "metadata": {},
     "output_type": "execute_result"
    }
   ],
   "source": [
    "# Getting the number of rows in the dataframe\n",
    "df.shape[0]"
   ]
  },
  {
   "cell_type": "markdown",
   "metadata": {},
   "source": [
    "<a id=\"libraries\"></a>\n",
    "# <h5><span style='color:white'>Step 3.5 |</span><span style='color:white'> Cleaning Description Column</span></h5>"
   ]
  },
  {
   "cell_type": "markdown",
   "metadata": {},
   "source": [
    "  \n",
    "First, we will calculate the occurrence count of each unique description in the dataset. Then, we will plot the top 30 descriptions. This visualization will give a clear view of the highest occurring descriptions in the dataset:"
   ]
  },
  {
   "cell_type": "code",
   "execution_count": 50,
   "metadata": {},
   "outputs": [
    {
     "data": {
      "image/png": "[encoded data removed]",
      "text/plain": [
       "<Figure size 1200x800 with 1 Axes>"
      ]
     },
     "metadata": {},
     "output_type": "display_data"
    }
   ],
   "source": [
    "# Calculate the occurrence of each unique description and sort them\n",
    "description_counts = df['Description'].value_counts()#value-count\n",
    "# Get the top 30 descriptions\n",
    "top_30_descriptions = description_counts[:30]\n",
    "\n",
    "# Plotting\n",
    "plt.figure(figsize=(12,8))\n",
    "plt.barh(top_30_descriptions.index[::-1], top_30_descriptions.values[::-1], color='#ff6200')\n",
    "\n",
    "# Adding labels and title\n",
    "plt.xlabel('Number of Occurrences')\n",
    "plt.ylabel('Description')\n",
    "plt.title('Top 30 Most Frequent Descriptions')\n",
    "\n",
    "# Show the plot\n",
    "plt.show()"
   ]
  },
  {
   "cell_type": "markdown",
   "metadata": {},
   "source": [
    "<h3 align=\"left\"><font color=#ff6200>Inferences on Descriptions:</font></h3>\n",
    "\n",
    "- The most frequent descriptions are generally household items, particularly those associated with kitchenware, lunch bags, and decorative items.\n",
    "       \n",
    "    \n",
    "- Interestingly, all the descriptions are in uppercase, which might be a standardized format for entering product descriptions in the database. However, considering the inconsistencies and anomalies encountered in the dataset so far, it would be prudent to check if there are descriptions entered in lowercase or a mix of case styles."
   ]
  },
  {
   "cell_type": "code",
   "execution_count": 51,
   "metadata": {},
   "outputs": [
    {
     "name": "stdout",
     "output_type": "stream",
     "text": [
      "['WHITE HANGING HEART T-LIGHT HOLDER' 'WHITE METAL LANTERN'\n",
      " 'CREAM CUPID HEARTS COAT HANGER' ... 'PINK CRYSTAL SKULL PHONE CHARM'\n",
      " 'CREAM HANGING HEART T-LIGHT HOLDER' 'PAPER CRAFT , LITTLE BIRDIE']\n",
      "The unique descriptions containing lowercase characters are:\n",
      "------------------------------------------------------------\n",
      "BAG 500g SWIRLY MARBLES\n",
      "POLYESTER FILLER PAD 45x45cm\n",
      "POLYESTER FILLER PAD 45x30cm\n",
      "POLYESTER FILLER PAD 40x40cm\n",
      "FRENCH BLUE METAL DOOR SIGN No\n",
      "BAG 250g SWIRLY MARBLES\n",
      "BAG 125g SWIRLY MARBLES\n",
      "3 TRADITIONAl BISCUIT CUTTERS  SET\n",
      "NUMBER TILE COTTAGE GARDEN No\n",
      "FOLK ART GREETING CARD,pack/12\n",
      "ESSENTIAL BALM 3.5g TIN IN ENVELOPE\n",
      "POLYESTER FILLER PAD 65CMx65CM\n",
      "NUMBER TILE VINTAGE FONT No \n",
      "POLYESTER FILLER PAD 30CMx30CM\n",
      "POLYESTER FILLER PAD 60x40cm\n",
      "FLOWERS HANDBAG blue and orange\n",
      "Next Day Carriage\n",
      "THE KING GIFT BAG 25x24x12cm\n",
      "High Resolution Image\n"
     ]
    }
   ],
   "source": [
    "# Find unique descriptions containing lowercase characters\n",
    "lowercase_descriptions = df['Description'].unique()\n",
    "print(lowercase_descriptions)\n",
    "lowercase_descriptions = [desc for desc in lowercase_descriptions if any(char.islower() for char in desc)]\n",
    "\n",
    "# Print the unique descriptions containing lowercase characters\n",
    "print(\"The unique descriptions containing lowercase characters are:\")\n",
    "print(\"-\"*60)\n",
    "for desc in lowercase_descriptions:\n",
    "    print(desc)"
   ]
  },
  {
   "cell_type": "markdown",
   "metadata": {},
   "source": [
    "<h3 align=\"left\"><font color=#ff6200>Inference:</font></h3>\n",
    "    \n",
    "- Upon reviewing the descriptions that contain lowercase characters, it is evident that some entries are not product descriptions, such as \"__Next Day Carriage__\" and \"__High Resolution Image__\". These entries seem to be unrelated to the actual products and might represent other types of information or service details."
   ]
  },
  {
   "cell_type": "markdown",
   "metadata": {},
   "source": [
    "<h3 align=\"left\"><font color=#ff6200>Strategy:</font></h3>\n",
    "\n",
    "- __Step 1__: Remove the rows where the descriptions contain service-related information like \"__Next Day Carriage__\" and \"__High Resolution Image__\", as these do not represent actual products and would not contribute to the clustering and recommendation system we aim to build.\n",
    "\n",
    "    \n",
    "- __Step 2__: For the remaining descriptions with mixed case, standardize the text to uppercase to maintain uniformity across the dataset. This will also assist in reducing the chances of having duplicate entries with different case styles.\n",
    "\n",
    "By implementing the above strategy, we can enhance the quality of our dataset, making it more suitable for the analysis and modeling phases of our project."
   ]
  },
  {
   "cell_type": "code",
   "execution_count": 52,
   "metadata": {},
   "outputs": [
    {
     "name": "stdout",
     "output_type": "stream",
     "text": [
      "The percentage of records with service-related descriptions in the dataset is: 0.02%\n"
     ]
    }
   ],
   "source": [
    "service_related_descriptions = [\"Next Day Carriage\", \"High Resolution Image\"]\n",
    "\n",
    "# Calculate the percentage of records with service-related descriptions\n",
    "service_related_percentage = df[df['Description'].isin(service_related_descriptions)].shape[0] / df.shape[0] * 100\n",
    "\n",
    "# Print the percentage of records with service-related descriptions\n",
    "print(f\"The percentage of records with service-related descriptions in the dataset is: {service_related_percentage:.2f}%\")\n"
   ]
  },
  {
   "cell_type": "code",
   "execution_count": 53,
   "metadata": {},
   "outputs": [
    {
     "data": {
      "text/plain": [
       "399606"
      ]
     },
     "execution_count": 53,
     "metadata": {},
     "output_type": "execute_result"
    }
   ],
   "source": [
    "# Remove rows with service-related information in the description\n",
    "df = df[~df['Description'].isin(service_related_descriptions)]\n",
    "# Standardize the text to uppercase to maintain uniformity across the dataset\n",
    "df['Description'] = df['Description'].str.upper()\n",
    "# Getting the number of rows in the dataframe\n",
    "df.shape[0]"
   ]
  },
  {
   "cell_type": "markdown",
   "metadata": {},
   "source": [
    "<a id=\"libraries\"></a>\n",
    "# <h5><span style='color:white'>Step 3.6 |</span><span style='color:white'> Treating Zero Unit Prices</span></h5>"
   ]
  },
  {
   "cell_type": "markdown",
   "metadata": {},
   "source": [
    " \n",
    "In this step, first I am going to take a look at the statistical description of the `UnitPrice` column:"
   ]
  },
  {
   "cell_type": "code",
   "execution_count": 54,
   "metadata": {},
   "outputs": [
    {
     "data": {
      "text/plain": [
       "count    399606.000000\n",
       "mean          2.904957\n",
       "std           4.448796\n",
       "min           0.000000\n",
       "25%           1.250000\n",
       "50%           1.950000\n",
       "75%           3.750000\n",
       "max         649.500000\n",
       "Name: UnitPrice, dtype: float64"
      ]
     },
     "execution_count": 54,
     "metadata": {},
     "output_type": "execute_result"
    }
   ],
   "source": [
    "df['UnitPrice'].describe()"
   ]
  },
  {
   "cell_type": "markdown",
   "metadata": {},
   "source": [
    "<h3 align=\"left\"><font color=#ff6200>Inference:</font></h3>\n",
    "    \n",
    "Write your inferences here"
   ]
  },
  {
   "cell_type": "code",
   "execution_count": 55,
   "metadata": {},
   "outputs": [
    {
     "data": {
      "text/plain": [
       "count       33.000000\n",
       "mean       420.515152\n",
       "std       2176.713608\n",
       "min          1.000000\n",
       "25%          2.000000\n",
       "50%         11.000000\n",
       "75%         36.000000\n",
       "max      12540.000000\n",
       "Name: Quantity, dtype: float64"
      ]
     },
     "execution_count": 55,
     "metadata": {},
     "output_type": "execute_result"
    }
   ],
   "source": [
    "df[df['UnitPrice']==0].describe()['Quantity']"
   ]
  },
  {
   "cell_type": "markdown",
   "metadata": {},
   "source": [
    "<h3 align=\"left\"><font color=#ff6200>Inferences on UnitPrice: </font></h3>\n",
    "\n",
    "- The transactions with a unit price of zero are relatively few in number (33 transactions).\n",
    "    \n",
    "    \n",
    "- These transactions have a large variability in the quantity of items involved, ranging from 1 to 12540, with a substantial standard deviation.\n",
    "    \n",
    "    \n",
    "- Including these transactions in the clustering analysis might introduce noise and could potentially distort the customer behavior patterns identified by the clustering algorithm."
   ]
  },
  {
   "cell_type": "markdown",
   "metadata": {},
   "source": [
    "<h3 align=\"left\"><font color=#ff6200>Strategy: </font></h3>\n",
    "\n",
    "Given the small number of these transactions and their potential to introduce noise in the data analysis, the strategy should be to remove these transactions from the dataset. This would help in maintaining a cleaner and more consistent dataset, which is essential for building an accurate and reliable clustering model and recommendation system."
   ]
  },
  {
   "cell_type": "code",
   "execution_count": 56,
   "metadata": {},
   "outputs": [],
   "source": [
    "# Removing records with a unit price of zero to avoid potential data entry errors\n",
    "df = df[df['UnitPrice'] > 0]"
   ]
  },
  {
   "cell_type": "markdown",
   "metadata": {},
   "source": [
    "<a id=\"outlier_cleaning\"></a>\n",
    "# <b><span style='color:#fcc36d'>Step 3.7 |</span><span style='color:#ff6200'> Outlier Treatment</span></b>\n",
    "⬆️ [Tabel of Contents](#contents_tabel)"
   ]
  },
  {
   "cell_type": "markdown",
   "metadata": {},
   "source": [
    "<div style=\"border-radius:10px; padding: 15px; background-color: #ffeacc; font-size:120%; text-align:left\">\n",
    "    \n",
    "In K-means clustering, the algorithm is sensitive to both the scale of data and the presence of outliers, as they can significantly influence the position of centroids, potentially leading to incorrect cluster assignments. However, considering the context of this project where the final goal is to understand customer behavior and preferences through K-means clustering, it would be more prudent to address the issue of outliers __after the feature engineering phase__ where we create a customer-centric dataset. At this stage, the data is transactional, and removing outliers might eliminate valuable information that could play a crucial role in segmenting customers later on. Therefore, we will postpone the outlier treatment and proceed to the next stage for now."
   ]
  },
  {
   "cell_type": "code",
   "execution_count": 57,
   "metadata": {},
   "outputs": [],
   "source": [
    "# Resetting the index of the cleaned dataset\n",
    "df.reset_index(drop=True, inplace=True)"
   ]
  },
  {
   "cell_type": "code",
   "execution_count": 58,
   "metadata": {},
   "outputs": [
    {
     "data": {
      "text/plain": [
       "399573"
      ]
     },
     "execution_count": 58,
     "metadata": {},
     "output_type": "execute_result"
    }
   ],
   "source": [
    "# Getting the number of rows in the dataframe\n",
    "df.shape[0]"
   ]
  },
  {
   "cell_type": "markdown",
   "id": "c5e67213",
   "metadata": {
    "papermill": {
     "duration": 0.060269,
     "end_time": "2023-09-13T18:55:39.048706",
     "exception": false,
     "start_time": "2023-09-13T18:55:38.988437",
     "status": "completed"
    },
    "tags": []
   },
   "source": [
    "<div style=\"border-radius:10px; padding: 15px;  font-size:100%; text-align:left\">\n",
    "<h3 align=\"left\"><font color=#ff6200>Inferences:</font></h3>\n",
    "\n",
    "Write your inferences here"
   ]
  }
 ],
 "metadata": {
  "kernelspec": {
   "display_name": "Python 3 (ipykernel)",
   "language": "python",
   "name": "python3"
  },
  "language_info": {
   "codemirror_mode": {
    "name": "ipython",
    "version": 3
   },
   "file_extension": ".py",
   "mimetype": "text/x-python",
   "name": "python",
   "nbconvert_exporter": "python",
   "pygments_lexer": "ipython3",
   "version": "3.11.5"
  },
  "papermill": {
   "default_parameters": {},
   "duration": 168.09806,
   "end_time": "2023-09-13T18:58:13.013821",
   "environment_variables": {},
   "exception": null,
   "input_path": "__notebook__.ipynb",
   "output_path": "__notebook__.ipynb",
   "parameters": {},
   "start_time": "2023-09-13T18:55:24.915761",
   "version": "2.4.0"
  }
 },
 "nbformat": 4,
 "nbformat_minor": 5
}
